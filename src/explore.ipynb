{
    "cells": [
        {
            "cell_type": "markdown",
            "metadata": {},
            "source": [
                "# Explore here"
            ]
        },
        {
            "cell_type": "code",
            "execution_count": 60,
            "metadata": {},
            "outputs": [],
            "source": [
                "import pandas as pd\n",
                "from utils import db_connect\n",
                "from app import query\n",
                "import matplotlib.pyplot as plt \n",
                "import seaborn as sns\n",
                "import json"
            ]
        },
        {
            "cell_type": "code",
            "execution_count": null,
            "metadata": {},
            "outputs": [],
            "source": [
                "engine = db_connect()\n",
                "\n",
                "# Consultar la tabla en la base de datos y crear un DataFrame\n",
                "total_data = pd.read_sql(query, engine)\n",
                "\n",
                "pd.set_option('display.max_columns', None)  # muestra todas las columnas del dataframe\n",
                "total_data.head(3)"
            ]
        },
        {
            "cell_type": "code",
            "execution_count": 62,
            "metadata": {},
            "outputs": [],
            "source": [
                "total_data.to_csv('/workspaces/K-NearestNeighbors/data/raw/5000-films.csv', index=False)"
            ]
        },
        {
            "cell_type": "code",
            "execution_count": 63,
            "metadata": {},
            "outputs": [
                {
                    "data": {
                        "text/plain": [
                            "(4809, 24)"
                        ]
                    },
                    "execution_count": 63,
                    "metadata": {},
                    "output_type": "execute_result"
                }
            ],
            "source": [
                "total_data.shape"
            ]
        },
        {
            "cell_type": "code",
            "execution_count": null,
            "metadata": {},
            "outputs": [],
            "source": [
                "total_data.info()"
            ]
        },
        {
            "cell_type": "code",
            "execution_count": 65,
            "metadata": {},
            "outputs": [],
            "source": [
                "total_data.drop(['homepage', 'id', 'tagline'], axis=1, inplace=True)"
            ]
        },
        {
            "cell_type": "code",
            "execution_count": 66,
            "metadata": {},
            "outputs": [],
            "source": [
                "total_data[\"genres\"] = total_data[\"genres\"].apply(lambda x: [item[\"name\"] for item in json.loads(x)] if pd.notna(x) else None)\n",
                "\n",
                "# .apply(lambda x: ...): Aplica una función a cada elemento de la columna \"genres\".\n",
                "# json.loads(x): Convierte la cadena JSON en una lista de diccionarios en Python.\n",
                "# [item[\"name\"] for item in ...]: comprensión de lista para extraer el valor de la clave \"name\" de cada diccionario en la lista.\n",
                "# if pd.notna(x) else None: maneja los valores nulos en la columna convirtiéndolos en None."
            ]
        },
        {
            "cell_type": "code",
            "execution_count": 67,
            "metadata": {},
            "outputs": [],
            "source": [
                "total_data[\"overview\"] = total_data[\"overview\"].apply(lambda x: [x])"
            ]
        },
        {
            "cell_type": "code",
            "execution_count": 68,
            "metadata": {},
            "outputs": [],
            "source": [
                "total_data[\"keywords\"] = total_data[\"keywords\"].apply(lambda x: [item[\"name\"] for item in json.loads(x)] if pd.notna(x) else None)\n",
                "total_data[\"spoken_languages\"] = total_data[\"spoken_languages\"].apply(lambda x: [item[\"name\"] for item in json.loads(x)] if pd.notna(x) else None)\n",
                "total_data[\"production_companies\"] = total_data[\"production_companies\"].apply(lambda x: [item[\"name\"] for item in json.loads(x)][:3] if pd.notna(x) else None)\n",
                "total_data[\"production_countries\"] = total_data[\"production_countries\"].apply(lambda x: [item[\"name\"] for item in json.loads(x)][:3] if pd.notna(x) else None)\n",
                "total_data[\"cast\"] = total_data[\"cast\"].apply(lambda x: [item[\"name\"] for item in json.loads(x)][:3] if pd.notna(x) else None)"
            ]
        },
        {
            "cell_type": "code",
            "execution_count": 69,
            "metadata": {},
            "outputs": [],
            "source": [
                "total_data[\"crew\"] = total_data[\"crew\"].apply(lambda x: \" \".join([crew_member['name'] for crew_member in json.loads(x) if crew_member['job'] == 'Director']))\n",
                "\n",
                "# json.loads(x): Carga los datos JSON de la cadena x en una lista de Python de diccionarios.\n",
                "# for crew_member in json.loads(x): Recorre cada miembro del equipo en los datos JSON.\n",
                "# if crew_member['job'] == 'Director': Filtra solo los miembros del equipo cuyo trabajo es \"Director\".\n",
                "# crew_member['name']: Extrae el nombre de cada miembro del equipo.\n",
                "# \" \".join(...): Une los nombres de los directores en una cadena, separados por espacios."
            ]
        },
        {
            "cell_type": "code",
            "execution_count": 70,
            "metadata": {},
            "outputs": [
                {
                    "name": "stdout",
                    "output_type": "stream",
                    "text": [
                        "<class 'pandas.core.frame.DataFrame'>\n",
                        "RangeIndex: 4809 entries, 0 to 4808\n",
                        "Data columns (total 21 columns):\n",
                        " #   Column                Non-Null Count  Dtype  \n",
                        "---  ------                --------------  -----  \n",
                        " 0   budget                4809 non-null   int64  \n",
                        " 1   genres                4809 non-null   object \n",
                        " 2   keywords              4809 non-null   object \n",
                        " 3   original_language     4809 non-null   object \n",
                        " 4   original_title        4809 non-null   object \n",
                        " 5   overview              4809 non-null   object \n",
                        " 6   popularity            4809 non-null   float64\n",
                        " 7   production_companies  4809 non-null   object \n",
                        " 8   production_countries  4809 non-null   object \n",
                        " 9   release_date          4808 non-null   object \n",
                        " 10  revenue               4809 non-null   int64  \n",
                        " 11  runtime               4807 non-null   float64\n",
                        " 12  spoken_languages      4809 non-null   object \n",
                        " 13  status                4809 non-null   object \n",
                        " 14  title                 4809 non-null   object \n",
                        " 15  vote_average          4809 non-null   float64\n",
                        " 16  vote_count            4809 non-null   int64  \n",
                        " 17  movie_id              4809 non-null   int64  \n",
                        " 18  title                 4809 non-null   object \n",
                        " 19  cast                  4809 non-null   object \n",
                        " 20  crew                  4809 non-null   object \n",
                        "dtypes: float64(3), int64(4), object(14)\n",
                        "memory usage: 789.1+ KB\n"
                    ]
                }
            ],
            "source": [
                "total_data.info()"
            ]
        },
        {
            "cell_type": "code",
            "execution_count": 71,
            "metadata": {},
            "outputs": [],
            "source": [
                "total_data = total_data.loc[:, ~total_data.columns.duplicated()]"
            ]
        },
        {
            "cell_type": "code",
            "execution_count": 72,
            "metadata": {},
            "outputs": [
                {
                    "data": {
                        "text/plain": [
                            "budget                  False\n",
                            "genres                  False\n",
                            "keywords                False\n",
                            "original_language       False\n",
                            "original_title          False\n",
                            "overview                False\n",
                            "popularity              False\n",
                            "production_companies    False\n",
                            "production_countries    False\n",
                            "release_date             True\n",
                            "revenue                 False\n",
                            "runtime                  True\n",
                            "spoken_languages        False\n",
                            "status                  False\n",
                            "title                   False\n",
                            "vote_average            False\n",
                            "vote_count              False\n",
                            "movie_id                False\n",
                            "cast                    False\n",
                            "crew                    False\n",
                            "dtype: bool"
                        ]
                    },
                    "execution_count": 72,
                    "metadata": {},
                    "output_type": "execute_result"
                }
            ],
            "source": [
                "total_data.isnull().any()"
            ]
        },
        {
            "cell_type": "code",
            "execution_count": 73,
            "metadata": {},
            "outputs": [
                {
                    "data": {
                        "text/html": [
                            "<div>\n",
                            "<style scoped>\n",
                            "    .dataframe tbody tr th:only-of-type {\n",
                            "        vertical-align: middle;\n",
                            "    }\n",
                            "\n",
                            "    .dataframe tbody tr th {\n",
                            "        vertical-align: top;\n",
                            "    }\n",
                            "\n",
                            "    .dataframe thead th {\n",
                            "        text-align: right;\n",
                            "    }\n",
                            "</style>\n",
                            "<table border=\"1\" class=\"dataframe\">\n",
                            "  <thead>\n",
                            "    <tr style=\"text-align: right;\">\n",
                            "      <th></th>\n",
                            "      <th>budget</th>\n",
                            "      <th>genres</th>\n",
                            "      <th>keywords</th>\n",
                            "      <th>original_language</th>\n",
                            "      <th>original_title</th>\n",
                            "      <th>overview</th>\n",
                            "      <th>popularity</th>\n",
                            "      <th>production_companies</th>\n",
                            "      <th>production_countries</th>\n",
                            "      <th>release_date</th>\n",
                            "      <th>revenue</th>\n",
                            "      <th>runtime</th>\n",
                            "      <th>spoken_languages</th>\n",
                            "      <th>status</th>\n",
                            "      <th>title</th>\n",
                            "      <th>vote_average</th>\n",
                            "      <th>vote_count</th>\n",
                            "      <th>movie_id</th>\n",
                            "      <th>cast</th>\n",
                            "      <th>crew</th>\n",
                            "    </tr>\n",
                            "  </thead>\n",
                            "  <tbody>\n",
                            "    <tr>\n",
                            "      <th>0</th>\n",
                            "      <td>237000000</td>\n",
                            "      <td>[Action, Adventure, Fantasy, Science Fiction]</td>\n",
                            "      <td>[culture clash, future, space war, space colon...</td>\n",
                            "      <td>en</td>\n",
                            "      <td>Avatar</td>\n",
                            "      <td>[In the 22nd century, a paraplegic Marine is d...</td>\n",
                            "      <td>150.437577</td>\n",
                            "      <td>[Ingenious Film Partners, Twentieth Century Fo...</td>\n",
                            "      <td>[United States of America, United Kingdom]</td>\n",
                            "      <td>2009-12-10</td>\n",
                            "      <td>2787965087</td>\n",
                            "      <td>162.0</td>\n",
                            "      <td>[English, Español]</td>\n",
                            "      <td>Released</td>\n",
                            "      <td>Avatar</td>\n",
                            "      <td>7.2</td>\n",
                            "      <td>11800</td>\n",
                            "      <td>19995</td>\n",
                            "      <td>[Sam Worthington, Zoe Saldana, Sigourney Weaver]</td>\n",
                            "      <td>James Cameron</td>\n",
                            "    </tr>\n",
                            "    <tr>\n",
                            "      <th>1</th>\n",
                            "      <td>300000000</td>\n",
                            "      <td>[Adventure, Fantasy, Action]</td>\n",
                            "      <td>[ocean, drug abuse, exotic island, east india ...</td>\n",
                            "      <td>en</td>\n",
                            "      <td>Pirates of the Caribbean: At World's End</td>\n",
                            "      <td>[Captain Barbossa, long believed to be dead, h...</td>\n",
                            "      <td>139.082615</td>\n",
                            "      <td>[Walt Disney Pictures, Jerry Bruckheimer Films...</td>\n",
                            "      <td>[United States of America]</td>\n",
                            "      <td>2007-05-19</td>\n",
                            "      <td>961000000</td>\n",
                            "      <td>169.0</td>\n",
                            "      <td>[English]</td>\n",
                            "      <td>Released</td>\n",
                            "      <td>Pirates of the Caribbean: At World's End</td>\n",
                            "      <td>6.9</td>\n",
                            "      <td>4500</td>\n",
                            "      <td>285</td>\n",
                            "      <td>[Johnny Depp, Orlando Bloom, Keira Knightley]</td>\n",
                            "      <td>Gore Verbinski</td>\n",
                            "    </tr>\n",
                            "  </tbody>\n",
                            "</table>\n",
                            "</div>"
                        ],
                        "text/plain": [
                            "      budget                                         genres  \\\n",
                            "0  237000000  [Action, Adventure, Fantasy, Science Fiction]   \n",
                            "1  300000000                   [Adventure, Fantasy, Action]   \n",
                            "\n",
                            "                                            keywords original_language  \\\n",
                            "0  [culture clash, future, space war, space colon...                en   \n",
                            "1  [ocean, drug abuse, exotic island, east india ...                en   \n",
                            "\n",
                            "                             original_title  \\\n",
                            "0                                    Avatar   \n",
                            "1  Pirates of the Caribbean: At World's End   \n",
                            "\n",
                            "                                            overview  popularity  \\\n",
                            "0  [In the 22nd century, a paraplegic Marine is d...  150.437577   \n",
                            "1  [Captain Barbossa, long believed to be dead, h...  139.082615   \n",
                            "\n",
                            "                                production_companies  \\\n",
                            "0  [Ingenious Film Partners, Twentieth Century Fo...   \n",
                            "1  [Walt Disney Pictures, Jerry Bruckheimer Films...   \n",
                            "\n",
                            "                         production_countries release_date     revenue  \\\n",
                            "0  [United States of America, United Kingdom]   2009-12-10  2787965087   \n",
                            "1                  [United States of America]   2007-05-19   961000000   \n",
                            "\n",
                            "   runtime    spoken_languages    status  \\\n",
                            "0    162.0  [English, Español]  Released   \n",
                            "1    169.0           [English]  Released   \n",
                            "\n",
                            "                                      title  vote_average  vote_count  \\\n",
                            "0                                    Avatar           7.2       11800   \n",
                            "1  Pirates of the Caribbean: At World's End           6.9        4500   \n",
                            "\n",
                            "   movie_id                                              cast            crew  \n",
                            "0     19995  [Sam Worthington, Zoe Saldana, Sigourney Weaver]   James Cameron  \n",
                            "1       285     [Johnny Depp, Orlando Bloom, Keira Knightley]  Gore Verbinski  "
                        ]
                    },
                    "execution_count": 73,
                    "metadata": {},
                    "output_type": "execute_result"
                }
            ],
            "source": [
                "total_data.head(2)"
            ]
        },
        {
            "cell_type": "code",
            "execution_count": 74,
            "metadata": {},
            "outputs": [],
            "source": [
                "total_data['description'] = total_data['genres'] + total_data['keywords'] + total_data['overview'] + total_data['production_companies'] + total_data['production_countries'] + total_data['spoken_languages'] + total_data['cast']\n",
                "\n",
                "total_data.drop(['genres', 'keywords', 'overview', 'production_companies', 'production_countries', 'spoken_languages', 'cast'], axis=1, inplace=True)"
            ]
        },
        {
            "cell_type": "code",
            "execution_count": 75,
            "metadata": {},
            "outputs": [
                {
                    "data": {
                        "text/html": [
                            "<div>\n",
                            "<style scoped>\n",
                            "    .dataframe tbody tr th:only-of-type {\n",
                            "        vertical-align: middle;\n",
                            "    }\n",
                            "\n",
                            "    .dataframe tbody tr th {\n",
                            "        vertical-align: top;\n",
                            "    }\n",
                            "\n",
                            "    .dataframe thead th {\n",
                            "        text-align: right;\n",
                            "    }\n",
                            "</style>\n",
                            "<table border=\"1\" class=\"dataframe\">\n",
                            "  <thead>\n",
                            "    <tr style=\"text-align: right;\">\n",
                            "      <th></th>\n",
                            "      <th>budget</th>\n",
                            "      <th>popularity</th>\n",
                            "      <th>release_date</th>\n",
                            "      <th>revenue</th>\n",
                            "      <th>runtime</th>\n",
                            "      <th>status</th>\n",
                            "      <th>title</th>\n",
                            "      <th>vote_average</th>\n",
                            "      <th>vote_count</th>\n",
                            "      <th>crew</th>\n",
                            "      <th>description</th>\n",
                            "    </tr>\n",
                            "  </thead>\n",
                            "  <tbody>\n",
                            "    <tr>\n",
                            "      <th>0</th>\n",
                            "      <td>237000000</td>\n",
                            "      <td>150.437577</td>\n",
                            "      <td>2009-12-10</td>\n",
                            "      <td>2787965087</td>\n",
                            "      <td>162.0</td>\n",
                            "      <td>Released</td>\n",
                            "      <td>Avatar</td>\n",
                            "      <td>7.2</td>\n",
                            "      <td>11800</td>\n",
                            "      <td>James Cameron</td>\n",
                            "      <td>[Action, Adventure, Fantasy, Science Fiction, ...</td>\n",
                            "    </tr>\n",
                            "    <tr>\n",
                            "      <th>1</th>\n",
                            "      <td>300000000</td>\n",
                            "      <td>139.082615</td>\n",
                            "      <td>2007-05-19</td>\n",
                            "      <td>961000000</td>\n",
                            "      <td>169.0</td>\n",
                            "      <td>Released</td>\n",
                            "      <td>Pirates of the Caribbean: At World's End</td>\n",
                            "      <td>6.9</td>\n",
                            "      <td>4500</td>\n",
                            "      <td>Gore Verbinski</td>\n",
                            "      <td>[Adventure, Fantasy, Action, ocean, drug abuse...</td>\n",
                            "    </tr>\n",
                            "  </tbody>\n",
                            "</table>\n",
                            "</div>"
                        ],
                        "text/plain": [
                            "      budget  popularity release_date     revenue  runtime    status  \\\n",
                            "0  237000000  150.437577   2009-12-10  2787965087    162.0  Released   \n",
                            "1  300000000  139.082615   2007-05-19   961000000    169.0  Released   \n",
                            "\n",
                            "                                      title  vote_average  vote_count  \\\n",
                            "0                                    Avatar           7.2       11800   \n",
                            "1  Pirates of the Caribbean: At World's End           6.9        4500   \n",
                            "\n",
                            "             crew                                        description  \n",
                            "0   James Cameron  [Action, Adventure, Fantasy, Science Fiction, ...  \n",
                            "1  Gore Verbinski  [Adventure, Fantasy, Action, ocean, drug abuse...  "
                        ]
                    },
                    "execution_count": 75,
                    "metadata": {},
                    "output_type": "execute_result"
                }
            ],
            "source": [
                "total_data.drop(['original_language', 'original_title', 'movie_id'], axis=1, inplace=True)\n",
                "total_data.head(2)"
            ]
        },
        {
            "cell_type": "code",
            "execution_count": 76,
            "metadata": {},
            "outputs": [],
            "source": [
                "total_data['description'] = total_data['description'].apply(lambda x: \" \".join([item for item in x if isinstance(item, str)]) if x is not None else \"\")"
            ]
        },
        {
            "cell_type": "code",
            "execution_count": 78,
            "metadata": {},
            "outputs": [],
            "source": [
                "total_data[\"description\"] = total_data[\"description\"].str.strip().str.lower()"
            ]
        },
        {
            "cell_type": "code",
            "execution_count": 79,
            "metadata": {},
            "outputs": [
                {
                    "data": {
                        "text/plain": [
                            "\"action comedy science fiction time travel time machine alien fictional government agency seeing the future changing history agents j (will smith) and k (tommy lee jones) are back...in time. j has seen some inexplicable things in his 15 years with the men in black, but nothing, not even aliens, perplexes him as much as his wry, reticent partner. but when k's life and the fate of the planet are put at stake, agent j will have to travel back in time to put things right. j discovers that there are secrets to the universe that k never told him - secrets that will reveal themselves as he teams up with the young agent k (josh brolin) to save his partner, the agency, and the future of humankind. amblin entertainment media magik entertainment imagenation abu dhabi fz united states of america english will smith tommy lee jones josh brolin\""
                        ]
                    },
                    "execution_count": 79,
                    "metadata": {},
                    "output_type": "execute_result"
                }
            ],
            "source": [
                "total_data.iloc[20].description"
            ]
        },
        {
            "cell_type": "code",
            "execution_count": 81,
            "metadata": {},
            "outputs": [
                {
                    "data": {
                        "text/plain": [
                            "'action adventure fantasy science fiction culture clash future space war space colony society space travel futuristic romance space alien tribe alien planet cgi marine soldier battle love affair anti war power relations mind and soul 3d in the 22nd century a paraplegic marine is dispatched to the moon pandora on a unique mission but becomes torn between following orders and protecting an alien civilization ingenious film partners twentieth century fox film corporation dune entertainment united states of america united kingdom english español sam worthington zoe saldana sigourney weaver'"
                        ]
                    },
                    "execution_count": 81,
                    "metadata": {},
                    "output_type": "execute_result"
                }
            ],
            "source": [
                "import re\n",
                "\n",
                "def remove_punctuation(text):\n",
                "    # Define una expresión regular para encontrar signos de puntuación\n",
                "    punctuation_pattern = r'[^\\w\\s]'\n",
                "    # Reemplaza los signos de puntuación por una cadena vacía\n",
                "    text_without_punctuation = re.sub(punctuation_pattern, '', str(text))\n",
                "    return text_without_punctuation\n",
                "\n",
                "# Aplicar la función remove_punctuation a toda la columna 'description'\n",
                "total_data['description'] = total_data['description'].apply(remove_punctuation)\n",
                "\n",
                "# Mostrar la descripción de la primera fila después de eliminar la puntuación\n",
                "total_data.iloc[0].description"
            ]
        }
    ],
    "metadata": {
        "kernelspec": {
            "display_name": "Python 3.8.13 64-bit ('3.8.13')",
            "language": "python",
            "name": "python3"
        },
        "language_info": {
            "codemirror_mode": {
                "name": "ipython",
                "version": 3
            },
            "file_extension": ".py",
            "mimetype": "text/x-python",
            "name": "python",
            "nbconvert_exporter": "python",
            "pygments_lexer": "ipython3",
            "version": "3.10.12"
        },
        "orig_nbformat": 4,
        "vscode": {
            "interpreter": {
                "hash": "110cc1dee26208153f2972f08a2ad52b6a56238dc66d48e87fb757ef2996db56"
            }
        }
    },
    "nbformat": 4,
    "nbformat_minor": 2
}
