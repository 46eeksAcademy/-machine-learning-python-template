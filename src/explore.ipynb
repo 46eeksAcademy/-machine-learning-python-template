{
    "cells": [
        {
            "cell_type": "markdown",
            "metadata": {},
            "source": [
                "# Explore here"
            ]
        },
        {
            "cell_type": "code",
            "execution_count": 60,
            "metadata": {},
            "outputs": [],
            "source": [
                "import pandas as pd\n",
                "from utils import db_connect\n",
                "from app import query\n",
                "import matplotlib.pyplot as plt \n",
                "import seaborn as sns\n",
                "import json"
            ]
        },
        {
            "cell_type": "code",
            "execution_count": 61,
            "metadata": {},
            "outputs": [
                {
                    "data": {
                        "text/html": [
                            "<div>\n",
                            "<style scoped>\n",
                            "    .dataframe tbody tr th:only-of-type {\n",
                            "        vertical-align: middle;\n",
                            "    }\n",
                            "\n",
                            "    .dataframe tbody tr th {\n",
                            "        vertical-align: top;\n",
                            "    }\n",
                            "\n",
                            "    .dataframe thead th {\n",
                            "        text-align: right;\n",
                            "    }\n",
                            "</style>\n",
                            "<table border=\"1\" class=\"dataframe\">\n",
                            "  <thead>\n",
                            "    <tr style=\"text-align: right;\">\n",
                            "      <th></th>\n",
                            "      <th>budget</th>\n",
                            "      <th>genres</th>\n",
                            "      <th>homepage</th>\n",
                            "      <th>id</th>\n",
                            "      <th>keywords</th>\n",
                            "      <th>original_language</th>\n",
                            "      <th>original_title</th>\n",
                            "      <th>overview</th>\n",
                            "      <th>popularity</th>\n",
                            "      <th>production_companies</th>\n",
                            "      <th>production_countries</th>\n",
                            "      <th>release_date</th>\n",
                            "      <th>revenue</th>\n",
                            "      <th>runtime</th>\n",
                            "      <th>spoken_languages</th>\n",
                            "      <th>status</th>\n",
                            "      <th>tagline</th>\n",
                            "      <th>title</th>\n",
                            "      <th>vote_average</th>\n",
                            "      <th>vote_count</th>\n",
                            "      <th>movie_id</th>\n",
                            "      <th>title</th>\n",
                            "      <th>cast</th>\n",
                            "      <th>crew</th>\n",
                            "    </tr>\n",
                            "  </thead>\n",
                            "  <tbody>\n",
                            "    <tr>\n",
                            "      <th>0</th>\n",
                            "      <td>237000000</td>\n",
                            "      <td>[{\"id\": 28, \"name\": \"Action\"}, {\"id\": 12, \"nam...</td>\n",
                            "      <td>http://www.avatarmovie.com/</td>\n",
                            "      <td>19995</td>\n",
                            "      <td>[{\"id\": 1463, \"name\": \"culture clash\"}, {\"id\":...</td>\n",
                            "      <td>en</td>\n",
                            "      <td>Avatar</td>\n",
                            "      <td>In the 22nd century, a paraplegic Marine is di...</td>\n",
                            "      <td>150.437577</td>\n",
                            "      <td>[{\"name\": \"Ingenious Film Partners\", \"id\": 289...</td>\n",
                            "      <td>[{\"iso_3166_1\": \"US\", \"name\": \"United States o...</td>\n",
                            "      <td>2009-12-10</td>\n",
                            "      <td>2787965087</td>\n",
                            "      <td>162.0</td>\n",
                            "      <td>[{\"iso_639_1\": \"en\", \"name\": \"English\"}, {\"iso...</td>\n",
                            "      <td>Released</td>\n",
                            "      <td>Enter the World of Pandora.</td>\n",
                            "      <td>Avatar</td>\n",
                            "      <td>7.2</td>\n",
                            "      <td>11800</td>\n",
                            "      <td>19995</td>\n",
                            "      <td>Avatar</td>\n",
                            "      <td>[{\"cast_id\": 242, \"character\": \"Jake Sully\", \"...</td>\n",
                            "      <td>[{\"credit_id\": \"52fe48009251416c750aca23\", \"de...</td>\n",
                            "    </tr>\n",
                            "    <tr>\n",
                            "      <th>1</th>\n",
                            "      <td>300000000</td>\n",
                            "      <td>[{\"id\": 12, \"name\": \"Adventure\"}, {\"id\": 14, \"...</td>\n",
                            "      <td>http://disney.go.com/disneypictures/pirates/</td>\n",
                            "      <td>285</td>\n",
                            "      <td>[{\"id\": 270, \"name\": \"ocean\"}, {\"id\": 726, \"na...</td>\n",
                            "      <td>en</td>\n",
                            "      <td>Pirates of the Caribbean: At World's End</td>\n",
                            "      <td>Captain Barbossa, long believed to be dead, ha...</td>\n",
                            "      <td>139.082615</td>\n",
                            "      <td>[{\"name\": \"Walt Disney Pictures\", \"id\": 2}, {\"...</td>\n",
                            "      <td>[{\"iso_3166_1\": \"US\", \"name\": \"United States o...</td>\n",
                            "      <td>2007-05-19</td>\n",
                            "      <td>961000000</td>\n",
                            "      <td>169.0</td>\n",
                            "      <td>[{\"iso_639_1\": \"en\", \"name\": \"English\"}]</td>\n",
                            "      <td>Released</td>\n",
                            "      <td>At the end of the world, the adventure begins.</td>\n",
                            "      <td>Pirates of the Caribbean: At World's End</td>\n",
                            "      <td>6.9</td>\n",
                            "      <td>4500</td>\n",
                            "      <td>285</td>\n",
                            "      <td>Pirates of the Caribbean: At World's End</td>\n",
                            "      <td>[{\"cast_id\": 4, \"character\": \"Captain Jack Spa...</td>\n",
                            "      <td>[{\"credit_id\": \"52fe4232c3a36847f800b579\", \"de...</td>\n",
                            "    </tr>\n",
                            "    <tr>\n",
                            "      <th>2</th>\n",
                            "      <td>245000000</td>\n",
                            "      <td>[{\"id\": 28, \"name\": \"Action\"}, {\"id\": 12, \"nam...</td>\n",
                            "      <td>http://www.sonypictures.com/movies/spectre/</td>\n",
                            "      <td>206647</td>\n",
                            "      <td>[{\"id\": 470, \"name\": \"spy\"}, {\"id\": 818, \"name...</td>\n",
                            "      <td>en</td>\n",
                            "      <td>Spectre</td>\n",
                            "      <td>A cryptic message from Bond’s past sends him o...</td>\n",
                            "      <td>107.376788</td>\n",
                            "      <td>[{\"name\": \"Columbia Pictures\", \"id\": 5}, {\"nam...</td>\n",
                            "      <td>[{\"iso_3166_1\": \"GB\", \"name\": \"United Kingdom\"...</td>\n",
                            "      <td>2015-10-26</td>\n",
                            "      <td>880674609</td>\n",
                            "      <td>148.0</td>\n",
                            "      <td>[{\"iso_639_1\": \"fr\", \"name\": \"Fran\\u00e7ais\"},...</td>\n",
                            "      <td>Released</td>\n",
                            "      <td>A Plan No One Escapes</td>\n",
                            "      <td>Spectre</td>\n",
                            "      <td>6.3</td>\n",
                            "      <td>4466</td>\n",
                            "      <td>206647</td>\n",
                            "      <td>Spectre</td>\n",
                            "      <td>[{\"cast_id\": 1, \"character\": \"James Bond\", \"cr...</td>\n",
                            "      <td>[{\"credit_id\": \"54805967c3a36829b5002c41\", \"de...</td>\n",
                            "    </tr>\n",
                            "  </tbody>\n",
                            "</table>\n",
                            "</div>"
                        ],
                        "text/plain": [
                            "      budget                                             genres  \\\n",
                            "0  237000000  [{\"id\": 28, \"name\": \"Action\"}, {\"id\": 12, \"nam...   \n",
                            "1  300000000  [{\"id\": 12, \"name\": \"Adventure\"}, {\"id\": 14, \"...   \n",
                            "2  245000000  [{\"id\": 28, \"name\": \"Action\"}, {\"id\": 12, \"nam...   \n",
                            "\n",
                            "                                       homepage      id  \\\n",
                            "0                   http://www.avatarmovie.com/   19995   \n",
                            "1  http://disney.go.com/disneypictures/pirates/     285   \n",
                            "2   http://www.sonypictures.com/movies/spectre/  206647   \n",
                            "\n",
                            "                                            keywords original_language  \\\n",
                            "0  [{\"id\": 1463, \"name\": \"culture clash\"}, {\"id\":...                en   \n",
                            "1  [{\"id\": 270, \"name\": \"ocean\"}, {\"id\": 726, \"na...                en   \n",
                            "2  [{\"id\": 470, \"name\": \"spy\"}, {\"id\": 818, \"name...                en   \n",
                            "\n",
                            "                             original_title  \\\n",
                            "0                                    Avatar   \n",
                            "1  Pirates of the Caribbean: At World's End   \n",
                            "2                                   Spectre   \n",
                            "\n",
                            "                                            overview  popularity  \\\n",
                            "0  In the 22nd century, a paraplegic Marine is di...  150.437577   \n",
                            "1  Captain Barbossa, long believed to be dead, ha...  139.082615   \n",
                            "2  A cryptic message from Bond’s past sends him o...  107.376788   \n",
                            "\n",
                            "                                production_companies  \\\n",
                            "0  [{\"name\": \"Ingenious Film Partners\", \"id\": 289...   \n",
                            "1  [{\"name\": \"Walt Disney Pictures\", \"id\": 2}, {\"...   \n",
                            "2  [{\"name\": \"Columbia Pictures\", \"id\": 5}, {\"nam...   \n",
                            "\n",
                            "                                production_countries release_date     revenue  \\\n",
                            "0  [{\"iso_3166_1\": \"US\", \"name\": \"United States o...   2009-12-10  2787965087   \n",
                            "1  [{\"iso_3166_1\": \"US\", \"name\": \"United States o...   2007-05-19   961000000   \n",
                            "2  [{\"iso_3166_1\": \"GB\", \"name\": \"United Kingdom\"...   2015-10-26   880674609   \n",
                            "\n",
                            "   runtime                                   spoken_languages    status  \\\n",
                            "0    162.0  [{\"iso_639_1\": \"en\", \"name\": \"English\"}, {\"iso...  Released   \n",
                            "1    169.0           [{\"iso_639_1\": \"en\", \"name\": \"English\"}]  Released   \n",
                            "2    148.0  [{\"iso_639_1\": \"fr\", \"name\": \"Fran\\u00e7ais\"},...  Released   \n",
                            "\n",
                            "                                          tagline  \\\n",
                            "0                     Enter the World of Pandora.   \n",
                            "1  At the end of the world, the adventure begins.   \n",
                            "2                           A Plan No One Escapes   \n",
                            "\n",
                            "                                      title  vote_average  vote_count  \\\n",
                            "0                                    Avatar           7.2       11800   \n",
                            "1  Pirates of the Caribbean: At World's End           6.9        4500   \n",
                            "2                                   Spectre           6.3        4466   \n",
                            "\n",
                            "   movie_id                                     title  \\\n",
                            "0     19995                                    Avatar   \n",
                            "1       285  Pirates of the Caribbean: At World's End   \n",
                            "2    206647                                   Spectre   \n",
                            "\n",
                            "                                                cast  \\\n",
                            "0  [{\"cast_id\": 242, \"character\": \"Jake Sully\", \"...   \n",
                            "1  [{\"cast_id\": 4, \"character\": \"Captain Jack Spa...   \n",
                            "2  [{\"cast_id\": 1, \"character\": \"James Bond\", \"cr...   \n",
                            "\n",
                            "                                                crew  \n",
                            "0  [{\"credit_id\": \"52fe48009251416c750aca23\", \"de...  \n",
                            "1  [{\"credit_id\": \"52fe4232c3a36847f800b579\", \"de...  \n",
                            "2  [{\"credit_id\": \"54805967c3a36829b5002c41\", \"de...  "
                        ]
                    },
                    "execution_count": 61,
                    "metadata": {},
                    "output_type": "execute_result"
                }
            ],
            "source": [
                "engine = db_connect()\n",
                "\n",
                "# Consultar la tabla en la base de datos y crear un DataFrame\n",
                "total_data = pd.read_sql(query, engine)\n",
                "\n",
                "pd.set_option('display.max_columns', None)  # muestra todas las columnas del dataframe\n",
                "total_data.head(3)"
            ]
        },
        {
            "cell_type": "code",
            "execution_count": 62,
            "metadata": {},
            "outputs": [],
            "source": [
                "total_data.to_csv('/workspaces/K-NearestNeighbors/data/raw/5000-films.csv', index=False)"
            ]
        },
        {
            "cell_type": "code",
            "execution_count": 63,
            "metadata": {},
            "outputs": [
                {
                    "data": {
                        "text/plain": [
                            "(4809, 24)"
                        ]
                    },
                    "execution_count": 63,
                    "metadata": {},
                    "output_type": "execute_result"
                }
            ],
            "source": [
                "total_data.shape"
            ]
        },
        {
            "cell_type": "code",
            "execution_count": 64,
            "metadata": {},
            "outputs": [
                {
                    "name": "stdout",
                    "output_type": "stream",
                    "text": [
                        "<class 'pandas.core.frame.DataFrame'>\n",
                        "RangeIndex: 4809 entries, 0 to 4808\n",
                        "Data columns (total 24 columns):\n",
                        " #   Column                Non-Null Count  Dtype  \n",
                        "---  ------                --------------  -----  \n",
                        " 0   budget                4809 non-null   int64  \n",
                        " 1   genres                4809 non-null   object \n",
                        " 2   homepage              1713 non-null   object \n",
                        " 3   id                    4809 non-null   int64  \n",
                        " 4   keywords              4809 non-null   object \n",
                        " 5   original_language     4809 non-null   object \n",
                        " 6   original_title        4809 non-null   object \n",
                        " 7   overview              4806 non-null   object \n",
                        " 8   popularity            4809 non-null   float64\n",
                        " 9   production_companies  4809 non-null   object \n",
                        " 10  production_countries  4809 non-null   object \n",
                        " 11  release_date          4808 non-null   object \n",
                        " 12  revenue               4809 non-null   int64  \n",
                        " 13  runtime               4807 non-null   float64\n",
                        " 14  spoken_languages      4809 non-null   object \n",
                        " 15  status                4809 non-null   object \n",
                        " 16  tagline               3965 non-null   object \n",
                        " 17  title                 4809 non-null   object \n",
                        " 18  vote_average          4809 non-null   float64\n",
                        " 19  vote_count            4809 non-null   int64  \n",
                        " 20  movie_id              4809 non-null   int64  \n",
                        " 21  title                 4809 non-null   object \n",
                        " 22  cast                  4809 non-null   object \n",
                        " 23  crew                  4809 non-null   object \n",
                        "dtypes: float64(3), int64(5), object(16)\n",
                        "memory usage: 901.8+ KB\n"
                    ]
                }
            ],
            "source": [
                "total_data.info()"
            ]
        },
        {
            "cell_type": "code",
            "execution_count": 65,
            "metadata": {},
            "outputs": [],
            "source": [
                "total_data.drop(['homepage', 'id', 'tagline'], axis=1, inplace=True)"
            ]
        },
        {
            "cell_type": "code",
            "execution_count": 66,
            "metadata": {},
            "outputs": [],
            "source": [
                "total_data[\"genres\"] = total_data[\"genres\"].apply(lambda x: [item[\"name\"] for item in json.loads(x)] if pd.notna(x) else None)\n",
                "\n",
                "# .apply(lambda x: ...): Aplica una función a cada elemento de la columna \"genres\".\n",
                "# json.loads(x): Convierte la cadena JSON en una lista de diccionarios en Python.\n",
                "# [item[\"name\"] for item in ...]: comprensión de lista para extraer el valor de la clave \"name\" de cada diccionario en la lista.\n",
                "# if pd.notna(x) else None: maneja los valores nulos en la columna convirtiéndolos en None."
            ]
        },
        {
            "cell_type": "code",
            "execution_count": 67,
            "metadata": {},
            "outputs": [],
            "source": [
                "total_data[\"overview\"] = total_data[\"overview\"].apply(lambda x: [x])"
            ]
        },
        {
            "cell_type": "code",
            "execution_count": 68,
            "metadata": {},
            "outputs": [],
            "source": [
                "total_data[\"keywords\"] = total_data[\"keywords\"].apply(lambda x: [item[\"name\"] for item in json.loads(x)] if pd.notna(x) else None)\n",
                "total_data[\"spoken_languages\"] = total_data[\"spoken_languages\"].apply(lambda x: [item[\"name\"] for item in json.loads(x)] if pd.notna(x) else None)\n",
                "total_data[\"production_companies\"] = total_data[\"production_companies\"].apply(lambda x: [item[\"name\"] for item in json.loads(x)][:3] if pd.notna(x) else None)\n",
                "total_data[\"production_countries\"] = total_data[\"production_countries\"].apply(lambda x: [item[\"name\"] for item in json.loads(x)][:3] if pd.notna(x) else None)\n",
                "total_data[\"cast\"] = total_data[\"cast\"].apply(lambda x: [item[\"name\"] for item in json.loads(x)][:3] if pd.notna(x) else None)"
            ]
        },
        {
            "cell_type": "code",
            "execution_count": 69,
            "metadata": {},
            "outputs": [],
            "source": [
                "total_data[\"crew\"] = total_data[\"crew\"].apply(lambda x: \" \".join([crew_member['name'] for crew_member in json.loads(x) if crew_member['job'] == 'Director']))\n",
                "\n",
                "# json.loads(x): Carga los datos JSON de la cadena x en una lista de Python de diccionarios.\n",
                "# for crew_member in json.loads(x): Recorre cada miembro del equipo en los datos JSON.\n",
                "# if crew_member['job'] == 'Director': Filtra solo los miembros del equipo cuyo trabajo es \"Director\".\n",
                "# crew_member['name']: Extrae el nombre de cada miembro del equipo.\n",
                "# \" \".join(...): Une los nombres de los directores en una cadena, separados por espacios."
            ]
        },
        {
            "cell_type": "code",
            "execution_count": 70,
            "metadata": {},
            "outputs": [
                {
                    "name": "stdout",
                    "output_type": "stream",
                    "text": [
                        "<class 'pandas.core.frame.DataFrame'>\n",
                        "RangeIndex: 4809 entries, 0 to 4808\n",
                        "Data columns (total 21 columns):\n",
                        " #   Column                Non-Null Count  Dtype  \n",
                        "---  ------                --------------  -----  \n",
                        " 0   budget                4809 non-null   int64  \n",
                        " 1   genres                4809 non-null   object \n",
                        " 2   keywords              4809 non-null   object \n",
                        " 3   original_language     4809 non-null   object \n",
                        " 4   original_title        4809 non-null   object \n",
                        " 5   overview              4809 non-null   object \n",
                        " 6   popularity            4809 non-null   float64\n",
                        " 7   production_companies  4809 non-null   object \n",
                        " 8   production_countries  4809 non-null   object \n",
                        " 9   release_date          4808 non-null   object \n",
                        " 10  revenue               4809 non-null   int64  \n",
                        " 11  runtime               4807 non-null   float64\n",
                        " 12  spoken_languages      4809 non-null   object \n",
                        " 13  status                4809 non-null   object \n",
                        " 14  title                 4809 non-null   object \n",
                        " 15  vote_average          4809 non-null   float64\n",
                        " 16  vote_count            4809 non-null   int64  \n",
                        " 17  movie_id              4809 non-null   int64  \n",
                        " 18  title                 4809 non-null   object \n",
                        " 19  cast                  4809 non-null   object \n",
                        " 20  crew                  4809 non-null   object \n",
                        "dtypes: float64(3), int64(4), object(14)\n",
                        "memory usage: 789.1+ KB\n"
                    ]
                }
            ],
            "source": [
                "total_data.info()"
            ]
        },
        {
            "cell_type": "code",
            "execution_count": 71,
            "metadata": {},
            "outputs": [],
            "source": [
                "total_data = total_data.loc[:, ~total_data.columns.duplicated()]"
            ]
        },
        {
            "cell_type": "code",
            "execution_count": 72,
            "metadata": {},
            "outputs": [
                {
                    "data": {
                        "text/plain": [
                            "budget                  False\n",
                            "genres                  False\n",
                            "keywords                False\n",
                            "original_language       False\n",
                            "original_title          False\n",
                            "overview                False\n",
                            "popularity              False\n",
                            "production_companies    False\n",
                            "production_countries    False\n",
                            "release_date             True\n",
                            "revenue                 False\n",
                            "runtime                  True\n",
                            "spoken_languages        False\n",
                            "status                  False\n",
                            "title                   False\n",
                            "vote_average            False\n",
                            "vote_count              False\n",
                            "movie_id                False\n",
                            "cast                    False\n",
                            "crew                    False\n",
                            "dtype: bool"
                        ]
                    },
                    "execution_count": 72,
                    "metadata": {},
                    "output_type": "execute_result"
                }
            ],
            "source": [
                "total_data.isnull().any()"
            ]
        },
        {
            "cell_type": "code",
            "execution_count": 73,
            "metadata": {},
            "outputs": [
                {
                    "data": {
                        "text/html": [
                            "<div>\n",
                            "<style scoped>\n",
                            "    .dataframe tbody tr th:only-of-type {\n",
                            "        vertical-align: middle;\n",
                            "    }\n",
                            "\n",
                            "    .dataframe tbody tr th {\n",
                            "        vertical-align: top;\n",
                            "    }\n",
                            "\n",
                            "    .dataframe thead th {\n",
                            "        text-align: right;\n",
                            "    }\n",
                            "</style>\n",
                            "<table border=\"1\" class=\"dataframe\">\n",
                            "  <thead>\n",
                            "    <tr style=\"text-align: right;\">\n",
                            "      <th></th>\n",
                            "      <th>budget</th>\n",
                            "      <th>genres</th>\n",
                            "      <th>keywords</th>\n",
                            "      <th>original_language</th>\n",
                            "      <th>original_title</th>\n",
                            "      <th>overview</th>\n",
                            "      <th>popularity</th>\n",
                            "      <th>production_companies</th>\n",
                            "      <th>production_countries</th>\n",
                            "      <th>release_date</th>\n",
                            "      <th>revenue</th>\n",
                            "      <th>runtime</th>\n",
                            "      <th>spoken_languages</th>\n",
                            "      <th>status</th>\n",
                            "      <th>title</th>\n",
                            "      <th>vote_average</th>\n",
                            "      <th>vote_count</th>\n",
                            "      <th>movie_id</th>\n",
                            "      <th>cast</th>\n",
                            "      <th>crew</th>\n",
                            "    </tr>\n",
                            "  </thead>\n",
                            "  <tbody>\n",
                            "    <tr>\n",
                            "      <th>0</th>\n",
                            "      <td>237000000</td>\n",
                            "      <td>[Action, Adventure, Fantasy, Science Fiction]</td>\n",
                            "      <td>[culture clash, future, space war, space colon...</td>\n",
                            "      <td>en</td>\n",
                            "      <td>Avatar</td>\n",
                            "      <td>[In the 22nd century, a paraplegic Marine is d...</td>\n",
                            "      <td>150.437577</td>\n",
                            "      <td>[Ingenious Film Partners, Twentieth Century Fo...</td>\n",
                            "      <td>[United States of America, United Kingdom]</td>\n",
                            "      <td>2009-12-10</td>\n",
                            "      <td>2787965087</td>\n",
                            "      <td>162.0</td>\n",
                            "      <td>[English, Español]</td>\n",
                            "      <td>Released</td>\n",
                            "      <td>Avatar</td>\n",
                            "      <td>7.2</td>\n",
                            "      <td>11800</td>\n",
                            "      <td>19995</td>\n",
                            "      <td>[Sam Worthington, Zoe Saldana, Sigourney Weaver]</td>\n",
                            "      <td>James Cameron</td>\n",
                            "    </tr>\n",
                            "    <tr>\n",
                            "      <th>1</th>\n",
                            "      <td>300000000</td>\n",
                            "      <td>[Adventure, Fantasy, Action]</td>\n",
                            "      <td>[ocean, drug abuse, exotic island, east india ...</td>\n",
                            "      <td>en</td>\n",
                            "      <td>Pirates of the Caribbean: At World's End</td>\n",
                            "      <td>[Captain Barbossa, long believed to be dead, h...</td>\n",
                            "      <td>139.082615</td>\n",
                            "      <td>[Walt Disney Pictures, Jerry Bruckheimer Films...</td>\n",
                            "      <td>[United States of America]</td>\n",
                            "      <td>2007-05-19</td>\n",
                            "      <td>961000000</td>\n",
                            "      <td>169.0</td>\n",
                            "      <td>[English]</td>\n",
                            "      <td>Released</td>\n",
                            "      <td>Pirates of the Caribbean: At World's End</td>\n",
                            "      <td>6.9</td>\n",
                            "      <td>4500</td>\n",
                            "      <td>285</td>\n",
                            "      <td>[Johnny Depp, Orlando Bloom, Keira Knightley]</td>\n",
                            "      <td>Gore Verbinski</td>\n",
                            "    </tr>\n",
                            "  </tbody>\n",
                            "</table>\n",
                            "</div>"
                        ],
                        "text/plain": [
                            "      budget                                         genres  \\\n",
                            "0  237000000  [Action, Adventure, Fantasy, Science Fiction]   \n",
                            "1  300000000                   [Adventure, Fantasy, Action]   \n",
                            "\n",
                            "                                            keywords original_language  \\\n",
                            "0  [culture clash, future, space war, space colon...                en   \n",
                            "1  [ocean, drug abuse, exotic island, east india ...                en   \n",
                            "\n",
                            "                             original_title  \\\n",
                            "0                                    Avatar   \n",
                            "1  Pirates of the Caribbean: At World's End   \n",
                            "\n",
                            "                                            overview  popularity  \\\n",
                            "0  [In the 22nd century, a paraplegic Marine is d...  150.437577   \n",
                            "1  [Captain Barbossa, long believed to be dead, h...  139.082615   \n",
                            "\n",
                            "                                production_companies  \\\n",
                            "0  [Ingenious Film Partners, Twentieth Century Fo...   \n",
                            "1  [Walt Disney Pictures, Jerry Bruckheimer Films...   \n",
                            "\n",
                            "                         production_countries release_date     revenue  \\\n",
                            "0  [United States of America, United Kingdom]   2009-12-10  2787965087   \n",
                            "1                  [United States of America]   2007-05-19   961000000   \n",
                            "\n",
                            "   runtime    spoken_languages    status  \\\n",
                            "0    162.0  [English, Español]  Released   \n",
                            "1    169.0           [English]  Released   \n",
                            "\n",
                            "                                      title  vote_average  vote_count  \\\n",
                            "0                                    Avatar           7.2       11800   \n",
                            "1  Pirates of the Caribbean: At World's End           6.9        4500   \n",
                            "\n",
                            "   movie_id                                              cast            crew  \n",
                            "0     19995  [Sam Worthington, Zoe Saldana, Sigourney Weaver]   James Cameron  \n",
                            "1       285     [Johnny Depp, Orlando Bloom, Keira Knightley]  Gore Verbinski  "
                        ]
                    },
                    "execution_count": 73,
                    "metadata": {},
                    "output_type": "execute_result"
                }
            ],
            "source": [
                "total_data.head(2)"
            ]
        },
        {
            "cell_type": "code",
            "execution_count": 74,
            "metadata": {},
            "outputs": [],
            "source": [
                "total_data['description'] = total_data['genres'] + total_data['keywords'] + total_data['overview'] + total_data['production_companies'] + total_data['production_countries'] + total_data['spoken_languages'] + total_data['cast']\n",
                "\n",
                "total_data.drop(['genres', 'keywords', 'overview', 'production_companies', 'production_countries', 'spoken_languages', 'cast'], axis=1, inplace=True)"
            ]
        },
        {
            "cell_type": "code",
            "execution_count": 75,
            "metadata": {},
            "outputs": [
                {
                    "data": {
                        "text/html": [
                            "<div>\n",
                            "<style scoped>\n",
                            "    .dataframe tbody tr th:only-of-type {\n",
                            "        vertical-align: middle;\n",
                            "    }\n",
                            "\n",
                            "    .dataframe tbody tr th {\n",
                            "        vertical-align: top;\n",
                            "    }\n",
                            "\n",
                            "    .dataframe thead th {\n",
                            "        text-align: right;\n",
                            "    }\n",
                            "</style>\n",
                            "<table border=\"1\" class=\"dataframe\">\n",
                            "  <thead>\n",
                            "    <tr style=\"text-align: right;\">\n",
                            "      <th></th>\n",
                            "      <th>budget</th>\n",
                            "      <th>popularity</th>\n",
                            "      <th>release_date</th>\n",
                            "      <th>revenue</th>\n",
                            "      <th>runtime</th>\n",
                            "      <th>status</th>\n",
                            "      <th>title</th>\n",
                            "      <th>vote_average</th>\n",
                            "      <th>vote_count</th>\n",
                            "      <th>crew</th>\n",
                            "      <th>description</th>\n",
                            "    </tr>\n",
                            "  </thead>\n",
                            "  <tbody>\n",
                            "    <tr>\n",
                            "      <th>0</th>\n",
                            "      <td>237000000</td>\n",
                            "      <td>150.437577</td>\n",
                            "      <td>2009-12-10</td>\n",
                            "      <td>2787965087</td>\n",
                            "      <td>162.0</td>\n",
                            "      <td>Released</td>\n",
                            "      <td>Avatar</td>\n",
                            "      <td>7.2</td>\n",
                            "      <td>11800</td>\n",
                            "      <td>James Cameron</td>\n",
                            "      <td>[Action, Adventure, Fantasy, Science Fiction, ...</td>\n",
                            "    </tr>\n",
                            "    <tr>\n",
                            "      <th>1</th>\n",
                            "      <td>300000000</td>\n",
                            "      <td>139.082615</td>\n",
                            "      <td>2007-05-19</td>\n",
                            "      <td>961000000</td>\n",
                            "      <td>169.0</td>\n",
                            "      <td>Released</td>\n",
                            "      <td>Pirates of the Caribbean: At World's End</td>\n",
                            "      <td>6.9</td>\n",
                            "      <td>4500</td>\n",
                            "      <td>Gore Verbinski</td>\n",
                            "      <td>[Adventure, Fantasy, Action, ocean, drug abuse...</td>\n",
                            "    </tr>\n",
                            "  </tbody>\n",
                            "</table>\n",
                            "</div>"
                        ],
                        "text/plain": [
                            "      budget  popularity release_date     revenue  runtime    status  \\\n",
                            "0  237000000  150.437577   2009-12-10  2787965087    162.0  Released   \n",
                            "1  300000000  139.082615   2007-05-19   961000000    169.0  Released   \n",
                            "\n",
                            "                                      title  vote_average  vote_count  \\\n",
                            "0                                    Avatar           7.2       11800   \n",
                            "1  Pirates of the Caribbean: At World's End           6.9        4500   \n",
                            "\n",
                            "             crew                                        description  \n",
                            "0   James Cameron  [Action, Adventure, Fantasy, Science Fiction, ...  \n",
                            "1  Gore Verbinski  [Adventure, Fantasy, Action, ocean, drug abuse...  "
                        ]
                    },
                    "execution_count": 75,
                    "metadata": {},
                    "output_type": "execute_result"
                }
            ],
            "source": [
                "total_data.drop(['original_language', 'original_title', 'movie_id'], axis=1, inplace=True)\n",
                "total_data.head(2)"
            ]
        },
        {
            "cell_type": "code",
            "execution_count": 76,
            "metadata": {},
            "outputs": [],
            "source": [
                "total_data['description'] = total_data['description'].apply(lambda x: \" \".join([item for item in x if isinstance(item, str)]) if x is not None else \"\")"
            ]
        },
        {
            "cell_type": "code",
            "execution_count": 78,
            "metadata": {},
            "outputs": [],
            "source": [
                "total_data[\"description\"] = total_data[\"description\"].str.strip().str.lower()"
            ]
        },
        {
            "cell_type": "code",
            "execution_count": 79,
            "metadata": {},
            "outputs": [
                {
                    "data": {
                        "text/plain": [
                            "\"action comedy science fiction time travel time machine alien fictional government agency seeing the future changing history agents j (will smith) and k (tommy lee jones) are back...in time. j has seen some inexplicable things in his 15 years with the men in black, but nothing, not even aliens, perplexes him as much as his wry, reticent partner. but when k's life and the fate of the planet are put at stake, agent j will have to travel back in time to put things right. j discovers that there are secrets to the universe that k never told him - secrets that will reveal themselves as he teams up with the young agent k (josh brolin) to save his partner, the agency, and the future of humankind. amblin entertainment media magik entertainment imagenation abu dhabi fz united states of america english will smith tommy lee jones josh brolin\""
                        ]
                    },
                    "execution_count": 79,
                    "metadata": {},
                    "output_type": "execute_result"
                }
            ],
            "source": [
                "total_data.iloc[20].description"
            ]
        },
        {
            "cell_type": "code",
            "execution_count": 81,
            "metadata": {},
            "outputs": [
                {
                    "data": {
                        "text/plain": [
                            "'action adventure fantasy science fiction culture clash future space war space colony society space travel futuristic romance space alien tribe alien planet cgi marine soldier battle love affair anti war power relations mind and soul 3d in the 22nd century a paraplegic marine is dispatched to the moon pandora on a unique mission but becomes torn between following orders and protecting an alien civilization ingenious film partners twentieth century fox film corporation dune entertainment united states of america united kingdom english español sam worthington zoe saldana sigourney weaver'"
                        ]
                    },
                    "execution_count": 81,
                    "metadata": {},
                    "output_type": "execute_result"
                }
            ],
            "source": [
                "import re\n",
                "\n",
                "def remove_punctuation(text):\n",
                "    # Define una expresión regular para encontrar signos de puntuación\n",
                "    punctuation_pattern = r'[^\\w\\s]'\n",
                "    # Reemplaza los signos de puntuación por una cadena vacía\n",
                "    text_without_punctuation = re.sub(punctuation_pattern, '', str(text))\n",
                "    return text_without_punctuation\n",
                "\n",
                "# Aplicar la función remove_punctuation a toda la columna 'description'\n",
                "total_data['description'] = total_data['description'].apply(remove_punctuation)\n",
                "\n",
                "# Mostrar la descripción de la primera fila después de eliminar la puntuación\n",
                "total_data.iloc[0].description"
            ]
        }
    ],
    "metadata": {
        "kernelspec": {
            "display_name": "Python 3.8.13 64-bit ('3.8.13')",
            "language": "python",
            "name": "python3"
        },
        "language_info": {
            "codemirror_mode": {
                "name": "ipython",
                "version": 3
            },
            "file_extension": ".py",
            "mimetype": "text/x-python",
            "name": "python",
            "nbconvert_exporter": "python",
            "pygments_lexer": "ipython3",
            "version": "3.10.12"
        },
        "orig_nbformat": 4,
        "vscode": {
            "interpreter": {
                "hash": "110cc1dee26208153f2972f08a2ad52b6a56238dc66d48e87fb757ef2996db56"
            }
        }
    },
    "nbformat": 4,
    "nbformat_minor": 2
}
